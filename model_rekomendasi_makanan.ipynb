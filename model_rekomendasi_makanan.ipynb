{
  "nbformat": 4,
  "nbformat_minor": 0,
  "metadata": {
    "colab": {
      "provenance": []
    },
    "kernelspec": {
      "name": "python3",
      "display_name": "Python 3"
    },
    "language_info": {
      "name": "python"
    }
  },
  "cells": [
    {
      "cell_type": "code",
      "execution_count": null,
      "metadata": {
        "id": "QChMGTogNBs8"
      },
      "outputs": [],
      "source": [
        "import gdown\n",
        "\n",
        "# ID dari link file\n",
        "file_id = \"1eipKjmfKNXHkUyaD8DaBdjuDd1MirbOA\"\n",
        "# URL unduhan langsung\n",
        "url = f\"https://drive.google.com/uc?id={file_id}\"\n",
        "# Unduh file\n",
        "gdown.download(url, \"kaggle.json\", quiet=False)"
      ]
    },
    {
      "cell_type": "code",
      "source": [
        "import tensorflow as tf\n",
        "from tensorflow import keras\n",
        "import os\n",
        "import cv2\n",
        "import zipfile\n",
        "import kaggle\n",
        "import keras_tuner as kt\n",
        "from tensorflow.keras import layers\n",
        "from kaggle.api.kaggle_api_extended import KaggleApi\n",
        "from sklearn.metrics import classification_report, confusion_matrix\n",
        "from sklearn.model_selection import train_test_split\n",
        "import matplotlib.pyplot as plt\n",
        "import numpy as np\n",
        "import seaborn as sns"
      ],
      "metadata": {
        "id": "ARRxSi5YNm1J"
      },
      "execution_count": null,
      "outputs": []
    },
    {
      "cell_type": "code",
      "source": [
        "# Nama dataset Kaggle sesuai dengan tautan yang Anda berikan\n",
        "dataset_kaggle = \"akshaydattatraykhare/diabetes-dataset\"\n",
        "\n",
        "# Path tempat dataset akan diunduh dan diekstrak\n",
        "dataset_path = \"./datasets\"\n",
        "\n",
        "# Initialize the Kaggle API client\n",
        "api = KaggleApi()\n",
        "api.authenticate()\n",
        "\n",
        "# Buat direktori jika belum ada\n",
        "os.makedirs(dataset_path, exist_ok=True)\n",
        "\n",
        "# Unduh dataset\n",
        "print(\"Downloading dataset...\")\n",
        "api.dataset_download_files(dataset_kaggle, path=dataset_path, unzip=False)\n",
        "print(\"Download complete!\")\n",
        "\n",
        "# Path ke file ZIP dataset\n",
        "zip_file_path = os.path.join(dataset_path, 'chest-xray-images-pneumonia-with-new-class.zip')  # Sesuaikan dengan nama file zip di Kaggle\n",
        "\n",
        "# Ekstraksi file jika dalam format ZIP\n",
        "if os.path.exists(zip_file_path):\n",
        "    with zipfile.ZipFile(zip_file_path, 'r') as zip_ref:\n",
        "        print(\"Files in the ZIP archive:\", zip_ref.namelist())  # Melihat isi dari file zip\n",
        "        zip_ref.extractall(dataset_path)  # Ekstrak ke folder yang sama\n",
        "        print(\"Extraction complete!\")\n",
        "else:\n",
        "    print(f\"Error: Zip file not found at {zip_file_path}\")\n",
        "\n",
        "# Path ke direktori tempat dataset disimpan\n",
        "dataset_path = \"./datasets\"\n",
        "\n",
        "# Menampilkan isi direktori\n",
        "print(\"Isi direktori datasets:\", os.listdir(dataset_path))"
      ],
      "metadata": {
        "id": "oNRFYU2gNp9A"
      },
      "execution_count": null,
      "outputs": []
    }
  ]
}